{
  "nbformat": 4,
  "nbformat_minor": 0,
  "metadata": {
    "colab": {
      "provenance": []
    },
    "kernelspec": {
      "name": "python3",
      "display_name": "Python 3"
    },
    "language_info": {
      "name": "python"
    }
  },
  "cells": [
    {
      "cell_type": "markdown",
      "source": [
        "# Dropping rows\n",
        "The cleaning process involved removing rows from the dataset that had negative values in key columns such as median gross rent, median home value, and median household income. Negative values in these categories indicate incorrect or missing data. By removing these rows, the dataset was reduced by 192 entries, leaving a total of 601 rows with valid and accurate information. This ensures that any further analysis will be based on reliable data."
      ],
      "metadata": {
        "id": "fx_FxqBUDCNK"
      }
    },
    {
      "cell_type": "code",
      "execution_count": 1,
      "metadata": {
        "colab": {
          "base_uri": "https://localhost:8080/"
        },
        "id": "Tt2dXkHoCAR0",
        "outputId": "623dd3ac-49df-44e8-ca9f-2dc2ee51eca1"
      },
      "outputs": [
        {
          "output_type": "stream",
          "name": "stdout",
          "text": [
            "<class 'pandas.core.frame.DataFrame'>\n",
            "Index: 601 entries, 0 to 777\n",
            "Data columns (total 25 columns):\n",
            " #   Column                                    Non-Null Count  Dtype  \n",
            "---  ------                                    --------------  -----  \n",
            " 0   state                                     601 non-null    object \n",
            " 1   county                                    601 non-null    object \n",
            " 2   city                                      601 non-null    object \n",
            " 3   zip_code                                  601 non-null    int64  \n",
            " 4   total_population                          601 non-null    int64  \n",
            " 5   total_population_2024                     601 non-null    int64  \n",
            " 6   median_age                                601 non-null    float64\n",
            " 7   housing_units                             601 non-null    int64  \n",
            " 8   median_gross_rent                         601 non-null    int64  \n",
            " 9   median_home_value                         601 non-null    int64  \n",
            " 10  median_household_income                   601 non-null    int64  \n",
            " 11  white_population                          601 non-null    int64  \n",
            " 12  black_population                          601 non-null    int64  \n",
            " 13  american_indian_alaska_native_population  601 non-null    int64  \n",
            " 14  asian_population                          601 non-null    int64  \n",
            " 15  hispanic_latino_population                601 non-null    int64  \n",
            " 16  foreign_born_population                   601 non-null    int64  \n",
            " 17  total_moved_last_year                     601 non-null    int64  \n",
            " 18  moved_from_different_state                601 non-null    int64  \n",
            " 19  moved_from_abroad                         601 non-null    int64  \n",
            " 20  average_price                             583 non-null    float64\n",
            " 21  average_beds                              570 non-null    float64\n",
            " 22  average_baths                             573 non-null    float64\n",
            " 23  average_sqft                              572 non-null    float64\n",
            " 24  num_listings                              601 non-null    int64  \n",
            "dtypes: float64(5), int64(17), object(3)\n",
            "memory usage: 122.1+ KB\n"
          ]
        },
        {
          "output_type": "execute_result",
          "data": {
            "text/plain": [
              "(None, 192)"
            ]
          },
          "metadata": {},
          "execution_count": 1
        }
      ],
      "source": [
        "import pandas as pd\n",
        "\n",
        "\n",
        "df = pd.read_csv(\"/content/Colorado_Utah_Demographics_Migration_Real_Estate.csv\")\n",
        "\n",
        "\n",
        "# Drop rows with negative values in key columns\n",
        "cols_to_check = ['median_gross_rent', 'median_home_value', 'median_household_income']\n",
        "\n",
        "# Filter out rows where any of these columns have negative values\n",
        "cleaned_data = df[(df[cols_to_check] >= 0).all(axis=1)]\n",
        "\n",
        "# Check how many rows were dropped\n",
        "rows_dropped = df.shape[0] - cleaned_data.shape[0]\n",
        "\n",
        "cleaned_data.info(), rows_dropped"
      ]
    },
    {
      "cell_type": "code",
      "source": [
        "cleaned_data.to_csv(\"cleaned_CO_UT_DMR.csv\")"
      ],
      "metadata": {
        "id": "4duZIuJfCZz6"
      },
      "execution_count": 2,
      "outputs": []
    }
  ]
}